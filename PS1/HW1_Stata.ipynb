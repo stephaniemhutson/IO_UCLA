{
 "cells": [
  {
   "cell_type": "markdown",
   "id": "ff17a9e3-c75d-470d-a0d6-dc1d84f5fe42",
   "metadata": {},
   "source": [
    "# BLP: OLS estimates"
   ]
  },
  {
   "cell_type": "markdown",
   "id": "d80dfb47-0f2c-458f-ae5c-0ffa6365900c",
   "metadata": {},
   "source": [
    "We are given data on OTC headache medicine sales at the store x week level, covering 3 brands and 3 package sizes. Our sales variables include: \n",
    "\n",
    "-  Count - Number of People that go into the store each week.\n",
    "-  Promotion - Indicator variable for promotion on the product that week\n",
    "-  Price - Price of the package\n",
    "-  Week - time indicator\n",
    "-  Store - market indicator.\n",
    "\n",
    "\n",
    "Our demographic variables include:\n",
    "\n",
    "- Income - Household Income for person.\n",
    "- Week - time indicator \n",
    "- Store - market indicator\n",
    "\n",
    "Finally, our instruments include:\n",
    "- Cost - wholesale cost\n",
    "- Prices at all stores\n",
    "\n",
    "We first estimate the following model using OLS (1-3) and with our instruments:\n",
    "\n",
    "$$ u_{ijt} = X_{jt}\\beta + \\alpha p_{jt} + \\xi_{jt} + \\epsilon_{ijt} $$\n",
    "\n",
    "where $\\epsilon_{ijt}$ is iid logit. We can use the transformation in class to render this model estimable. In particular, the logit distribution of the error term implies that:\n",
    "\n",
    "$$ Pr(U_{ij} \\geq U_{ik}) = \\frac{\\exp(X_{jt}\\beta + \\alpha p_{jt} + \\xi_{jt})}{\\sum_{j=1}^{J}\\exp(X_{jt}\\beta + \\alpha p_{jt} + \\xi_{jt})} $$\n",
    "\n",
    "We can thus take logs of shares and obtain the estimating equation:\n",
    "\n",
    "$$ \\log(s_{jt}) - \\log(s_{0t}) = X_{jt}\\beta + \\alpha p_{jt} + \\xi_{jt} $$\n",
    "\n",
    "where $s_{0t}$ is the share of customers who decide to buy nothing in period $t$. We prepare the data by computing shares before estimating our regression equation. The following code blocks display both these processes."
   ]
  },
  {
   "cell_type": "markdown",
   "id": "4f22817d-55ff-45dd-89c8-a93481430f18",
   "metadata": {},
   "source": [
    "## Preparing data"
   ]
  },
  {
   "cell_type": "code",
   "execution_count": 1,
   "id": "c9c36b6c-0e2d-4036-b520-764b3efee408",
   "metadata": {},
   "outputs": [
    {
     "name": "stdout",
     "output_type": "stream",
     "text": [
      "\n",
      "\n",
      "\n",
      "(encoding automatically selected: ISO-8859-1)\n",
      "(8 vars, 38,544 obs)\n"
     ]
    }
   ],
   "source": [
    "global root \".\"\n",
    "global data \"$root/PS1_Data\"\n",
    "import delimited \"$data/OTC_Data.csv\", clear"
   ]
  },
  {
   "cell_type": "code",
   "execution_count": 2,
   "id": "7f58d63d-8c65-419f-bd73-d3c8fa8e3ba8",
   "metadata": {},
   "outputs": [
    {
     "name": "stdout",
     "output_type": "stream",
     "text": [
      "\n",
      "     +----------------------------------------------------------------+\n",
      "     | store   week   brand   sales_   count   price_   prom_   cost_ |\n",
      "     |----------------------------------------------------------------|\n",
      "  1. |     2      1       1       16   14181     3.29       0    2.06 |\n",
      "  2. |     2      2       1       12   13965     3.27       0    2.04 |\n",
      "  3. |     2      3       1        6   13538     3.37       0    2.15 |\n",
      "  4. |     2      4       1       12   13735      3.3       0    2.07 |\n",
      "     +----------------------------------------------------------------+\n"
     ]
    }
   ],
   "source": [
    "list in 1/4"
   ]
  },
  {
   "cell_type": "code",
   "execution_count": 3,
   "id": "971e1ec1-5ac0-4cca-b518-42f2731f0660",
   "metadata": {},
   "outputs": [
    {
     "name": "stdout",
     "output_type": "stream",
     "text": [
      "\n",
      "    Variable |        Obs        Mean    Std. dev.       Min        Max\n",
      "-------------+---------------------------------------------------------\n",
      "       store |     38,544    74.76712    33.34526          2        123\n",
      "        week |     38,544        24.5    13.85358          1         48\n",
      "       brand |     38,544           6    3.162319          1         11\n"
     ]
    }
   ],
   "source": [
    "sum store week brand"
   ]
  },
  {
   "cell_type": "code",
   "execution_count": 4,
   "id": "c6aa3d07-51ba-47f5-bbf5-98b39ef44898",
   "metadata": {},
   "outputs": [
    {
     "name": "stdout",
     "output_type": "stream",
     "text": [
      "(j = 1 2 3 4 5 6 7 8 9 10 11)\n",
      "\n",
      "Data                               Long   ->   Wide\n",
      "-----------------------------------------------------------------------------\n",
      "Number of observations           38,544   ->   3,504       \n",
      "Number of variables                   8   ->   47          \n",
      "j variable (11 values)            brand   ->   (dropped)\n",
      "xij variables:\n",
      "                                 sales_   ->   sales_1 sales_2 ... sales_11\n",
      "                                 price_   ->   price_1 price_2 ... price_11\n",
      "                                  prom_   ->   prom_1 prom_2 ... prom_11\n",
      "                                  cost_   ->   cost_1 cost_2 ... cost_11\n",
      "-----------------------------------------------------------------------------\n"
     ]
    }
   ],
   "source": [
    "// Get data into store * week level to construct shares\n",
    "reshape wide sales_ price_ prom_ cost_, i(store week count) j(brand)"
   ]
  },
  {
   "cell_type": "code",
   "execution_count": 5,
   "id": "8a103067-162e-4bff-a15b-b10e638ade7a",
   "metadata": {},
   "outputs": [
    {
     "name": "stdout",
     "output_type": "stream",
     "text": [
      "\n",
      "\n",
      "\n",
      "\n",
      "\n",
      "\n",
      "\n",
      "(j = 1 2 3 4 5 6 7 8 9 10 11)\n",
      "\n",
      "Data                               Wide   ->   Long\n",
      "-----------------------------------------------------------------------------\n",
      "Number of observations            3,504   ->   38,544      \n",
      "Number of variables                  47   ->   8           \n",
      "j variable (11 values)                    ->   brand\n",
      "xij variables:\n",
      "           price_1 price_2 ... price_11   ->   price_\n",
      "              prom_1 prom_2 ... prom_11   ->   prom_\n",
      "              cost_1 cost_2 ... cost_11   ->   cost_\n",
      "                          y1 y2 ... y11   ->   y\n",
      "-----------------------------------------------------------------------------\n"
     ]
    }
   ],
   "source": [
    "// Construct shares: tally outside option and compute log shares\n",
    "gen buy = 0\n",
    "forvalues i = 1/11 {\n",
    "    gen lshare`i' = log(sales_`i'/count)\n",
    "    qui replace buy = buy + sales_`i'\n",
    "}\n",
    "gen nobuy = count-buy\n",
    "gen lshare0 = log(nobuy/count)\n",
    "\n",
    "// Subtract logs to get LHS\n",
    "forvalues i = 1/11 {\n",
    "    gen y`i' = lshare`i' - lshare0\n",
    "}\n",
    "\n",
    "// Return to store-week * brand level\n",
    "drop sales* lshare* *buy*\n",
    "reshape long price_ prom_ cost_ y, i(store week count) j(brand)"
   ]
  },
  {
   "cell_type": "code",
   "execution_count": 6,
   "id": "7316711b-f5ba-4b0a-8e58-44fe046d2c35",
   "metadata": {},
   "outputs": [
    {
     "name": "stdout",
     "output_type": "stream",
     "text": [
      "\n",
      "     +-------------------------------------------------------------------+\n",
      "     | store   week   count   brand   price_   prom_   cost_           y |\n",
      "     |-------------------------------------------------------------------|\n",
      "  1. |     2      1   14181       1     3.29       0    2.06   -6.781129 |\n",
      "  2. |     2      1   14181       2     4.82       0    3.43   -7.155822 |\n",
      "  3. |     2      1   14181       3     8.15       0    5.72   -7.474276 |\n",
      "  4. |     2      1   14181       4     3.01       0    2.03   -7.155822 |\n",
      "     +-------------------------------------------------------------------+\n"
     ]
    }
   ],
   "source": [
    "list in 1/4"
   ]
  },
  {
   "cell_type": "code",
   "execution_count": 7,
   "id": "322de5cf-7cc9-4b7a-8953-143770a6ce34",
   "metadata": {},
   "outputs": [
    {
     "name": "stdout",
     "output_type": "stream",
     "text": [
      "\n",
      "store_id generated as str3\n",
      "\n",
      "week_id generated as str2\n",
      "\n",
      "\n",
      "\n",
      "brand_id generated as str2\n",
      "\n",
      "\n"
     ]
    }
   ],
   "source": [
    "// Construct store-week variable for brand FE regressions\n",
    "tostring store, gen(store_id)\n",
    "tostring week, gen(week_id)\n",
    "gen store_week_id = store_id + \" \" + week_id\n",
    "encode store_week_id, gen(t)\n",
    "\n",
    "// Construct store-brand variable for store-brand FE regressions\n",
    "tostring brand, gen(brand_id)\n",
    "gen store_brand_id = store_id + \" \" + brand_id\n",
    "encode store_brand_id, gen(sb)"
   ]
  },
  {
   "cell_type": "markdown",
   "id": "94f883f3-1048-4570-8544-058ac58b007b",
   "metadata": {},
   "source": [
    "Now that we have our data organized at the store-week * brand level, we can carry out our regression analyses. We will report all the Stata estimates in a single table at the end."
   ]
  },
  {
   "cell_type": "code",
   "execution_count": 29,
   "id": "32e53eb7-c489-4668-bb9d-74190897f523",
   "metadata": {},
   "outputs": [
    {
     "name": "stdout",
     "output_type": "stream",
     "text": [
      "\n",
      "\n",
      "\n",
      "\n",
      "\n",
      "\n",
      "\n",
      "\n",
      "\n",
      "\n",
      "\n",
      "\n",
      "\n",
      "\n",
      "\n",
      "\n",
      "\n",
      "file ~/Documents/271B/PS1_Data/reg_data.dta saved\n"
     ]
    }
   ],
   "source": [
    "// 1. Use price and promotion as product characteristics\n",
    "qui reg y price prom_\n",
    "estimates store model1ols\n",
    "\n",
    "// 2. Price and promotion plus brand dummies\n",
    "qui xtset brand t\n",
    "qui xtreg y price prom_, fe vce(robust)\n",
    "estimates store model2ols\n",
    "\n",
    "// 3. Price and promotion plus store-brand dummies\n",
    "qui xtset sb week\n",
    "qui xtreg y price prom_, fe vce(robust)\n",
    "estimates store model3ols\n",
    "\n",
    "// 4. Now we use wholesale cost as an instrument for price, and estimate the same models as 1-3\n",
    "qui ivreg y prom_ (price=cost_), robust\n",
    "estimates store model1costiv\n",
    "qui xtset brand t\n",
    "qui xtivreg y prom_ (price=cost_), fe vce(robust)\n",
    "estimates store model2costiv\n",
    "qui xtset sb week\n",
    "qui xtivreg y prom_ (price=cost_), fe vce(robust)\n",
    "estimates store model3costiv\n",
    "\n",
    "\n",
    "save \"$data/reg_data\", replace"
   ]
  },
  {
   "cell_type": "code",
   "execution_count": 30,
   "id": "8ee81154-678a-4904-b0bf-141b7af84921",
   "metadata": {},
   "outputs": [
    {
     "name": "stdout",
     "output_type": "stream",
     "text": [
      "\n",
      "(encoding automatically selected: ISO-8859-2)\n",
      "(35 vars, 38,544 obs)\n",
      "\n",
      "\n",
      "\n",
      "\n",
      "(38,544 real changes made)\n",
      "\n",
      "\n",
      "\n"
     ]
    }
   ],
   "source": [
    "// 5. Next, we use a Hausman instrument for price, and estimate the models from 1-3\n",
    "// First, construct the instrument:\n",
    "\n",
    "import delimited \"$data/OTCDataInstruments.csv\", clear\n",
    "forvalues i = 1/30 {\n",
    "    qui replace pricestore`i' = 0 if store == `i'\n",
    "}\n",
    "\n",
    "// Compute average of all other prices\n",
    "gen hausman = 0\n",
    "forvalues i = 1/30 {\n",
    "    qui replace hausman = hausman + pricestore`i'\n",
    "}\n",
    "replace hausman = hausman/29\n",
    "keep store week brand hausman\n",
    "\n",
    "// Add average price to our regressors\n",
    "qui merge 1:1 store week brand using \"$data/reg_data.dta\"\n",
    "drop _merge"
   ]
  },
  {
   "cell_type": "code",
   "execution_count": 31,
   "id": "eeb8911e-305a-40f1-b48c-8e2a0bd78bc5",
   "metadata": {},
   "outputs": [],
   "source": [
    "// 5. Estimate models\n",
    "qui ivreg y prom_ (price=hausman)\n",
    "estimates store model1hausmaniv\n",
    "qui xtset brand t\n",
    "qui xtivreg y prom_ (price=hausman), fe vce(robust)\n",
    "estimates store model2hausmaniv\n",
    "qui xtset sb week\n",
    "qui xtivreg y prom_ (price=hausman), fe vce(robust)\n",
    "estimates store model3hausmaniv"
   ]
  },
  {
   "cell_type": "code",
   "execution_count": 32,
   "id": "a67e2915-b82b-4917-9d1e-b29aaed66457",
   "metadata": {},
   "outputs": [
    {
     "name": "stdout",
     "output_type": "stream",
     "text": [
      "(output written to ~/Documents/271B/PS1_Data/estimates.tex)\n"
     ]
    }
   ],
   "source": [
    "esttab model1ols model1costiv model1hausmaniv model2ols model2costiv model2hausmaniv model3ols model3costiv model3hausmaniv using \"$data/estimates.tex\",  se replace"
   ]
  },
  {
   "cell_type": "code",
   "execution_count": null,
   "id": "88dd3554-564b-4f20-b7df-cb637fae4448",
   "metadata": {},
   "outputs": [],
   "source": []
  }
 ],
 "metadata": {
  "kernelspec": {
   "display_name": "Stata",
   "language": "stata",
   "name": "stata"
  },
  "language_info": {
   "codemirror_mode": "stata",
   "file_extension": ".do",
   "mimetype": "text/x-stata",
   "name": "stata",
   "version": "15.1"
  }
 },
 "nbformat": 4,
 "nbformat_minor": 5
}
